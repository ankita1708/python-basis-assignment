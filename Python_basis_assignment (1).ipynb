{
  "nbformat": 4,
  "nbformat_minor": 0,
  "metadata": {
    "colab": {
      "provenance": []
    },
    "kernelspec": {
      "name": "python3",
      "display_name": "Python 3"
    },
    "language_info": {
      "name": "python"
    }
  },
  "cells": [
    {
      "cell_type": "markdown",
      "source": [],
      "metadata": {
        "id": "A-j5yd1iH0s4"
      }
    },
    {
      "cell_type": "markdown",
      "source": [],
      "metadata": {
        "id": "dI-xgsIY8Bo3"
      }
    },
    {
      "cell_type": "markdown",
      "source": [
        "# **Python basic assignment**\n",
        "# **Theory questions**\n",
        " 1. what is python, and why is it popular?\n",
        "   - python is a general purpose,interpreted,open-source\n",
        "     language.python is a high-level language.python is a\n",
        "     dynamically typed language.python is a versatile language.\n",
        "     python is a begginer-frenidly language.it can be used for\n",
        "     web development,software development,data science,machine\n",
        "     learning etc. python is known for readability and simplicity\n",
        "     due to its clean,easy to understand syntax,making coding and\n",
        "     debugging so python is very popular programing language.\n",
        "\n",
        "\n",
        "\n",
        "\n",
        "\n",
        "  2. what is an interpreter in python?\n",
        "   - python was created by Guido van rossum in 1991.\n",
        "     python is named after the british comedy television\n",
        "     show monty python flying circus python is not named\n",
        "     after the snake. because the director of the was\"\n",
        "     monty python's flying circus\" and Guido van rossam\n",
        "     liked the show very much, he named the language python.\n",
        "    \n",
        "  3. what are pre-defined keywords in python?\n",
        "   - keyword in python are predefined reserved words with\n",
        "     special meaning so the interpreter can understand them.\n",
        "     python has 35 reserved keyword with predefined meanings:\n",
        "     False, True, None, and, as, assert, async, await,break,class, continue, del, elif, def, else, except, finally,  for, form, global, if, import, in, is, lambda, nonlocal, not, or, pass, raise, return, try, while, with and yield.\n",
        "  4. can keyword be used as variable names?\n",
        "   - No. keywords,define the language's syntax rules and\n",
        "     structure, and they can not be used as variable names.\n",
        "  5. what is mutability in python?\n",
        "   - mutable objects are objects whose value can be changed\n",
        "     after creation. mutable means flexible,i.e.- i can change the value of the list. list [ ] is a mutable.\n",
        "  6. why are list mutable, but tuples are immutable?\n",
        "    - 1. list[ ]:- list is mutable because we can change the\n",
        "         value of the list.\n",
        "      2. tuple():- tuple is immutable because we can not change\n",
        "         the value of tuple.\n",
        "  7. what is the difference between\"==\" and \"is\" operator in\n",
        "     python?\n",
        "   - \"==\" - checks for value equality(whether two objects have\n",
        "     the same value.)\n",
        "     \"is\" - checks for object identity( whether two varibles\n",
        "      point to the same object in memory.)\n",
        "  8. what are lopgical operator in python?\n",
        "   - logical operators in python combine two or more operands\n",
        "     and conduct logical operators. there are three types.ie..\n",
        "     AND, OR, and NOT. they return a Boolean value.ie..(True or\n",
        "     False.)\n",
        "  9. what is typecasting in python?\n",
        "   - Typecasting (or Type conversion) in python is the process\n",
        "     of converting one data type into another manually.there are\n",
        "     two types of typecasting:-\n",
        "     1. Implicit Typecasting\n",
        "     2. Explicit Typecasting\n",
        "  10. what is the difference between Implicit typecasting and\n",
        "      Explicit typecasting?\n",
        "   -  Implicit Typecasting:- In, Implicit Typecasting, python\n",
        "      automatically converts one data to another data type. this\n",
        "      is also called coercion.\n",
        "      Explicit Typecasting:- python user converts one data type to another data type. we use the predefined functions like\n",
        "      int(), float(), str() to perfrom explicit typecasting.\n",
        "  11. what is the purpose of conditional statment in python?\n",
        "   -   Conditional statments in python, like if, elif, and else, allow your  \n",
        "       code to make decisions and execute different blocks of code based on whether a condition\n",
        "       is true or false.\n",
        "  12. How does the elif statment work?\n",
        "    - The 'elif' keyword in python, stands for \"else if\". itcan be used in\n",
        "      conditional statments to check for multiple conditions.\n",
        "\n",
        "      if-elif-else statment syntax:\n",
        "\n",
        "       If (condition):\n",
        "\n",
        "         statment\n",
        "\n",
        "       elif(condition):\n",
        "\n",
        "         Statment\n",
        "\n",
        "       else:\n",
        "\n",
        "         statement\n",
        "\n",
        "  13. what is the difference between For and While loops?\n",
        "    - The key difference between a for loop and a while loop:-\n",
        "      For loop:- For loop is used when you know the number of\n",
        "      iterations.\n",
        "      While loop:-While loop is used when the number of iterations depends on a condition that might not be known in advance.\n",
        "  14. Describe a scenario where a While loop is more suitable\n",
        "      than a For loop.\n",
        "    - # assume data\n",
        "      # print a right tringle with(*), n =4\n",
        "      # while loop:-\n",
        "      while row<=4:\n",
        "\n",
        "       col = 1\n",
        "\n",
        "       while col<=row:\n",
        "\n",
        "       print(\"*,end = \" \")\n",
        "\n",
        "        col = col+1\n",
        "\n",
        "        print()\n",
        "\n",
        "        row =row+1\n",
        "\n",
        "      # for loop:-\n",
        "\n",
        "       for i in range(4):\n",
        "\n",
        "       print(\"*\"end =\" \")\n",
        "\n",
        "       print()\n",
        "    \n",
        "\n",
        "\n",
        "   "
      ],
      "metadata": {
        "id": "Lpz_YkcIYlNR"
      }
    },
    {
      "cell_type": "markdown",
      "source": [],
      "metadata": {
        "id": "ww2Xj2bi76LR"
      }
    },
    {
      "cell_type": "code",
      "execution_count": null,
      "metadata": {
        "id": "jGK4Z2vCYban",
        "colab": {
          "base_uri": "https://localhost:8080/"
        },
        "outputId": "a73e8b2e-1208-42dc-9436-d8d82a434b60"
      },
      "outputs": [
        {
          "output_type": "stream",
          "name": "stdout",
          "text": [
            "Hello world!\n"
          ]
        }
      ],
      "source": [
        "# 1. write a python program to print \"Hello, world!\"\n",
        "\n",
        "s= \"Hello, world !\"\n",
        "print(\"Hello world!\")\n",
        "\n"
      ]
    },
    {
      "cell_type": "code",
      "source": [
        "#2. write a python program that displays your name and age\n",
        " # way 1: to print name and age\n",
        "name= input('enter your name')\n",
        "age=input('enter your age')\n",
        "print(name , age)\n",
        "# way 2: to print name and age\n",
        "name= input('enter your name')\n",
        "age= input('enter your age')\n",
        "print(\"Hello,my name is\", name, \"and I am\", age,\"years old.\")"
      ],
      "metadata": {
        "colab": {
          "base_uri": "https://localhost:8080/"
        },
        "id": "f5qnuOQX8DE2",
        "outputId": "9d81ddeb-4f12-41f0-a630-04e2d137454a"
      },
      "execution_count": null,
      "outputs": [
        {
          "output_type": "stream",
          "name": "stdout",
          "text": [
            "enter your nameankita agarwal\n",
            "enter your age32\n",
            "ankita agarwal 32\n",
            "Hello,my name is ankita agarwal and I am 32 years old.\n"
          ]
        }
      ]
    },
    {
      "cell_type": "code",
      "source": [
        "# 3.write code to print all the pre-defined keyword in python using the keyword libarary.\n",
        "import keyword\n",
        "print(keyword.kwlist)"
      ],
      "metadata": {
        "id": "RtMY1yNv8DUg",
        "colab": {
          "base_uri": "https://localhost:8080/"
        },
        "outputId": "2eb0c873-726d-43c5-de37-2aa7da458951"
      },
      "execution_count": null,
      "outputs": [
        {
          "output_type": "stream",
          "name": "stdout",
          "text": [
            "['False', 'None', 'True', 'and', 'as', 'assert', 'async', 'await', 'break', 'class', 'continue', 'def', 'del', 'elif', 'else', 'except', 'finally', 'for', 'from', 'global', 'if', 'import', 'in', 'is', 'lambda', 'nonlocal', 'not', 'or', 'pass', 'raise', 'return', 'try', 'while', 'with', 'yield']\n"
          ]
        }
      ]
    },
    {
      "cell_type": "code",
      "source": [
        "# 4.Write a program that checks if a given word is python keyword\n",
        "import keyword\n",
        "word = input(\"Enter a word:\")\n",
        "if keyword.iskeyword:\n",
        "  print(\"the given word is a python keyword\")\n",
        "else:\n",
        "  print(\"the given word is not a python keyword\")"
      ],
      "metadata": {
        "id": "fhjUdin2_d5e",
        "colab": {
          "base_uri": "https://localhost:8080/"
        },
        "outputId": "447a5b3e-eea6-407d-aeec-3cc8768ccec7"
      },
      "execution_count": null,
      "outputs": [
        {
          "output_type": "stream",
          "name": "stdout",
          "text": [
            "Enter a word:False,True,None,and,as,assert,async,await,break,class,continue,def,del,elif\n",
            "the given word is a python keyword\n"
          ]
        }
      ]
    },
    {
      "cell_type": "code",
      "source": [
        "# 5. create a list and tuple in python,and demonstrate how attempting to change an element works differently for each\n",
        "# assume data[list] l[10,19.33,True,\"darshan\"] and( tuple) t(10,19.33,True,\"darshan\") different for each works\n",
        "# List data type\n",
        "l=[10,19.33,True,\"darshan\"]\n",
        "print(l)\n",
        "print(type(l))\n",
        "\n",
        "l[0] = \"Pw Skills\"\n",
        "print(l)\n",
        "\n",
        "# tuple data type\n",
        "\n",
        "t = (10,19.33,True,\"darshan\")\n",
        "print(t)\n",
        "print(type(t))\n",
        "\n",
        "t(0)== \"Pw skills\"\n",
        "print(t)\n"
      ],
      "metadata": {
        "colab": {
          "base_uri": "https://localhost:8080/",
          "height": 280
        },
        "id": "U5yhDeLk_eAu",
        "outputId": "33a127ae-0391-420e-9d33-6a230fc63221"
      },
      "execution_count": null,
      "outputs": [
        {
          "output_type": "stream",
          "name": "stdout",
          "text": [
            "[10, 19.33, True, 'darshan']\n",
            "<class 'list'>\n",
            "['Pw Skills', 19.33, True, 'darshan']\n",
            "(10, 19.33, True, 'darshan')\n",
            "<class 'tuple'>\n"
          ]
        },
        {
          "output_type": "error",
          "ename": "TypeError",
          "evalue": "'tuple' object is not callable",
          "traceback": [
            "\u001b[0;31m---------------------------------------------------------------------------\u001b[0m",
            "\u001b[0;31mTypeError\u001b[0m                                 Traceback (most recent call last)",
            "\u001b[0;32m<ipython-input-18-25932621091a>\u001b[0m in \u001b[0;36m<cell line: 0>\u001b[0;34m()\u001b[0m\n\u001b[1;32m     15\u001b[0m \u001b[0mprint\u001b[0m\u001b[0;34m(\u001b[0m\u001b[0mtype\u001b[0m\u001b[0;34m(\u001b[0m\u001b[0mt\u001b[0m\u001b[0;34m)\u001b[0m\u001b[0;34m)\u001b[0m\u001b[0;34m\u001b[0m\u001b[0;34m\u001b[0m\u001b[0m\n\u001b[1;32m     16\u001b[0m \u001b[0;34m\u001b[0m\u001b[0m\n\u001b[0;32m---> 17\u001b[0;31m \u001b[0mt\u001b[0m\u001b[0;34m(\u001b[0m\u001b[0;36m1\u001b[0m\u001b[0;34m)\u001b[0m\u001b[0;34m==\u001b[0m\u001b[0;34m\"Pw skills\"\u001b[0m\u001b[0;34m\u001b[0m\u001b[0;34m\u001b[0m\u001b[0m\n\u001b[0m\u001b[1;32m     18\u001b[0m \u001b[0mprint\u001b[0m\u001b[0;34m(\u001b[0m\u001b[0mt\u001b[0m\u001b[0;34m)\u001b[0m\u001b[0;34m\u001b[0m\u001b[0;34m\u001b[0m\u001b[0m\n",
            "\u001b[0;31mTypeError\u001b[0m: 'tuple' object is not callable"
          ]
        }
      ]
    },
    {
      "cell_type": "code",
      "source": [
        "# 6. write a function to demonstrate the behaviour of mutable and imutable\n",
        "# list is a mutable, and string is imutable:\n",
        "# assume data given a list l = [10,-4, 23,5] and string  s = (\"Darshan\")\n",
        "\n",
        "l=[10,-4,23,5]\n",
        "print(l)\n",
        "print(type(l))\n",
        "\n",
        "# Accessing the list\n",
        "print(l[0])\n",
        "print(l[1])\n",
        "print(l[2])\n",
        "print(l[3])\n",
        "\n",
        "l[0]= \"Darshan\"\n",
        "print(l)\n",
        "\n",
        "# becasuse I can change the value of list so list is mutable.\n",
        "\n",
        "s=(\"Darshan\")\n",
        "print(s)\n",
        "print(type(s))\n",
        "\n",
        "# Accessing the string\n",
        "print(s[0])\n",
        "print(s[1])\n",
        "print(s[2])\n",
        "print(s[3])\n",
        "print(s[4])\n",
        "print(s[5])\n",
        "print(s[6])\n",
        "\n",
        "s[0] = \"F\"\n",
        "print(s)"
      ],
      "metadata": {
        "id": "14nSHbrcF_5A",
        "colab": {
          "base_uri": "https://localhost:8080/",
          "height": 471
        },
        "outputId": "9adc23be-c4f2-4cb0-c2e8-76faae15d8e6"
      },
      "execution_count": null,
      "outputs": [
        {
          "output_type": "stream",
          "name": "stdout",
          "text": [
            "[10, -4, 23, 5]\n",
            "<class 'list'>\n",
            "10\n",
            "-4\n",
            "23\n",
            "5\n",
            "['Darshan', -4, 23, 5]\n",
            "Darshan\n",
            "<class 'str'>\n",
            "D\n",
            "a\n",
            "r\n",
            "s\n",
            "h\n",
            "a\n",
            "n\n"
          ]
        },
        {
          "output_type": "error",
          "ename": "TypeError",
          "evalue": "'str' object does not support item assignment",
          "traceback": [
            "\u001b[0;31m---------------------------------------------------------------------------\u001b[0m",
            "\u001b[0;31mTypeError\u001b[0m                                 Traceback (most recent call last)",
            "\u001b[0;32m<ipython-input-68-1b6044e13d6f>\u001b[0m in \u001b[0;36m<cell line: 0>\u001b[0;34m()\u001b[0m\n\u001b[1;32m     31\u001b[0m \u001b[0mprint\u001b[0m\u001b[0;34m(\u001b[0m\u001b[0ms\u001b[0m\u001b[0;34m[\u001b[0m\u001b[0;36m6\u001b[0m\u001b[0;34m]\u001b[0m\u001b[0;34m)\u001b[0m\u001b[0;34m\u001b[0m\u001b[0;34m\u001b[0m\u001b[0m\n\u001b[1;32m     32\u001b[0m \u001b[0;34m\u001b[0m\u001b[0m\n\u001b[0;32m---> 33\u001b[0;31m \u001b[0ms\u001b[0m\u001b[0;34m[\u001b[0m\u001b[0;36m0\u001b[0m\u001b[0;34m]\u001b[0m \u001b[0;34m=\u001b[0m \u001b[0;34m\"F\"\u001b[0m\u001b[0;34m\u001b[0m\u001b[0;34m\u001b[0m\u001b[0m\n\u001b[0m\u001b[1;32m     34\u001b[0m \u001b[0mprint\u001b[0m\u001b[0;34m(\u001b[0m\u001b[0ms\u001b[0m\u001b[0;34m)\u001b[0m\u001b[0;34m\u001b[0m\u001b[0;34m\u001b[0m\u001b[0m\n",
            "\u001b[0;31mTypeError\u001b[0m: 'str' object does not support item assignment"
          ]
        }
      ]
    },
    {
      "cell_type": "code",
      "source": [
        "# 7. write a function to demonstrate the behavior of immutable and mutable.\n",
        "# list is a mutable and tuple is unmutable.\n",
        "l =[15,2,-10,9]\n",
        "print(l)\n",
        "print(type(l))\n",
        "\n",
        "l[1] = \"saurabh\"\n",
        "print(l)\n",
        "\n",
        "# tuple:-\n",
        "t=('s','a','u','r')\n",
        "print(t)\n",
        "print(type(t))\n",
        "\n",
        "t[0]=\"q\"\n",
        "print(t)\n",
        "\n"
      ],
      "metadata": {
        "id": "tRBFyLROGAOu",
        "colab": {
          "base_uri": "https://localhost:8080/",
          "height": 297
        },
        "outputId": "1ea7ee34-2b58-4c79-a96e-84654a83fd72"
      },
      "execution_count": null,
      "outputs": [
        {
          "output_type": "stream",
          "name": "stdout",
          "text": [
            "[15, 2, -10, 9]\n",
            "<class 'list'>\n",
            "[15, 'saurabh', -10, 9]\n",
            "('s', 'a', 'u', 'r')\n",
            "<class 'tuple'>\n"
          ]
        },
        {
          "output_type": "error",
          "ename": "TypeError",
          "evalue": "'tuple' object does not support item assignment",
          "traceback": [
            "\u001b[0;31m---------------------------------------------------------------------------\u001b[0m",
            "\u001b[0;31mTypeError\u001b[0m                                 Traceback (most recent call last)",
            "\u001b[0;32m<ipython-input-25-81139140aefa>\u001b[0m in \u001b[0;36m<cell line: 0>\u001b[0;34m()\u001b[0m\n\u001b[1;32m     13\u001b[0m \u001b[0mprint\u001b[0m\u001b[0;34m(\u001b[0m\u001b[0mtype\u001b[0m\u001b[0;34m(\u001b[0m\u001b[0mt\u001b[0m\u001b[0;34m)\u001b[0m\u001b[0;34m)\u001b[0m\u001b[0;34m\u001b[0m\u001b[0;34m\u001b[0m\u001b[0m\n\u001b[1;32m     14\u001b[0m \u001b[0;34m\u001b[0m\u001b[0m\n\u001b[0;32m---> 15\u001b[0;31m \u001b[0mt\u001b[0m\u001b[0;34m[\u001b[0m\u001b[0;36m0\u001b[0m\u001b[0;34m]\u001b[0m\u001b[0;34m=\u001b[0m\u001b[0;34m\"q\"\u001b[0m\u001b[0;34m\u001b[0m\u001b[0;34m\u001b[0m\u001b[0m\n\u001b[0m\u001b[1;32m     16\u001b[0m \u001b[0mprint\u001b[0m\u001b[0;34m(\u001b[0m\u001b[0mt\u001b[0m\u001b[0;34m)\u001b[0m\u001b[0;34m\u001b[0m\u001b[0;34m\u001b[0m\u001b[0m\n\u001b[1;32m     17\u001b[0m \u001b[0;34m\u001b[0m\u001b[0m\n",
            "\u001b[0;31mTypeError\u001b[0m: 'tuple' object does not support item assignment"
          ]
        }
      ]
    },
    {
      "cell_type": "code",
      "source": [
        "\n",
        "# 8. write a program to demonstrate the use of logical operators.\n",
        "# assume data\n",
        "# check if a person qualifies for a loan based on age and salary\n",
        "age = 25\n",
        "salary =50000\n",
        "min_age = 18\n",
        "min_salary = 30000\n",
        "print(age>=min_age and salary>=min_salary)  #= True and True = True\n",
        "\n",
        "# Determine if a warehouse needs restocking based on low stock or high demand.\n",
        "stock = 15\n",
        "minimum = 20\n",
        "highdemand =False\n",
        "print(stock>minimum or highdemand) # false or false - false"
      ],
      "metadata": {
        "colab": {
          "base_uri": "https://localhost:8080/"
        },
        "id": "UrCIN-UUB6oH",
        "outputId": "00fea7fb-b00e-436b-a2cc-8074ebd842b0"
      },
      "execution_count": null,
      "outputs": [
        {
          "output_type": "stream",
          "name": "stdout",
          "text": [
            "True\n",
            "False\n"
          ]
        }
      ]
    },
    {
      "cell_type": "code",
      "source": [
        "\n",
        "# 9. write a python program to convert user input from string to integer,float and boolean types.\n",
        "num1 =input()\n",
        "num2 =input()\n",
        "res = num1+num2\n",
        "print(res)\n",
        "print(type(res))\n",
        "# convert into integers\n",
        "num1=int(input())\n",
        "num2 = int(input())\n",
        "res = num1+num2\n",
        "print(res)\n",
        "print(type(res))\n",
        "# convert into float\n",
        "num1=float(input())\n",
        "num2=float(input())\n",
        "res=num1+num2\n",
        "print(res)\n",
        "print(type(res))\n",
        "# convert into boolean\n",
        "num1 = bool(input())\n",
        "num2 = bool (input())\n",
        "res = num1+num2\n",
        "print(type(True))\n",
        "print(type(False))"
      ],
      "metadata": {
        "colab": {
          "base_uri": "https://localhost:8080/"
        },
        "id": "UF6TnmMaB6wP",
        "outputId": "b4d323c8-eda8-414f-ca17-1821bbef08fa"
      },
      "execution_count": null,
      "outputs": [
        {
          "output_type": "stream",
          "name": "stdout",
          "text": [
            "12\n",
            "24\n",
            "1224\n",
            "<class 'str'>\n",
            "12\n",
            "24\n",
            "36\n",
            "<class 'int'>\n",
            "12.0\n",
            "24.0\n",
            "36.0\n",
            "<class 'float'>\n",
            "12\n",
            "24\n",
            "<class 'bool'>\n",
            "<class 'bool'>\n"
          ]
        }
      ]
    },
    {
      "cell_type": "code",
      "source": [
        "# 10. write code to demonstrate type casting with list.\n",
        "# assuam data s =(\"D\",\"a\",\"r\",\"s\",\"h\",\"a\",\"n\")\n",
        "# string convert into list\n",
        "s=[\"D\",\"a\",\"r\",\"s\",\"h\",\"a\",\"n\"]\n",
        "print(s)\n",
        "print(type(s))\n",
        "# accesing the list\n",
        "print(s[0])\n",
        "print(s[1])\n",
        "print(s[2])\n",
        "print(s[3])\n",
        "print(s[4])\n",
        "print(s[5])\n",
        "print(s[6])"
      ],
      "metadata": {
        "colab": {
          "base_uri": "https://localhost:8080/"
        },
        "id": "wVYrPo8yB67Q",
        "outputId": "6853d22c-0789-4d5e-ee8f-0be3a7e55b12"
      },
      "execution_count": null,
      "outputs": [
        {
          "output_type": "stream",
          "name": "stdout",
          "text": [
            "['D', 'a', 'r', 's', 'h', 'a', 'n']\n",
            "<class 'list'>\n",
            "D\n",
            "a\n",
            "r\n",
            "s\n",
            "h\n",
            "a\n",
            "n\n"
          ]
        }
      ]
    },
    {
      "cell_type": "code",
      "source": [
        "#11. write a program that checks if a number is positive, negative or Zero.\n",
        "# assume data num =100\n",
        "num =100\n",
        "if num>0:\n",
        "  print(\" Number is positive\")\n",
        "else:\n",
        "  print(\"Number is negative or zero\")\n",
        "\n"
      ],
      "metadata": {
        "colab": {
          "base_uri": "https://localhost:8080/"
        },
        "id": "kKx-jK07V5bn",
        "outputId": "700388b9-65eb-4c49-dd5b-cc89b68f7971"
      },
      "execution_count": null,
      "outputs": [
        {
          "output_type": "stream",
          "name": "stdout",
          "text": [
            " Number is positive\n"
          ]
        }
      ]
    },
    {
      "cell_type": "code",
      "source": [
        "# 11 way 2:-\n",
        "num = int(input('enter the number'))\n",
        "if num<0:\n",
        "  print(\"The number is positive\")\n",
        "else:\n",
        "  print(\"The number is negative or zero\")"
      ],
      "metadata": {
        "colab": {
          "base_uri": "https://localhost:8080/"
        },
        "id": "ETN-LUnQAsqY",
        "outputId": "e437fce6-67cf-4a44-d0c8-c505aabefb53"
      },
      "execution_count": null,
      "outputs": [
        {
          "output_type": "stream",
          "name": "stdout",
          "text": [
            "enter the number100\n",
            "The number is negative or zero\n"
          ]
        }
      ]
    },
    {
      "cell_type": "code",
      "source": [
        "#  12. write a for loop to print numbers from 1 t0 10\n",
        "#range syntax:-(SI:EI-1)\n",
        "for i in range(1,10):\n",
        "  print(i,end = \" \")\n",
        "\n"
      ],
      "metadata": {
        "colab": {
          "base_uri": "https://localhost:8080/"
        },
        "id": "I7drnxC7V5n2",
        "outputId": "58224423-6aa7-41ca-8340-259bef7a53d7"
      },
      "execution_count": null,
      "outputs": [
        {
          "output_type": "stream",
          "name": "stdout",
          "text": [
            "1 2 3 4 5 6 7 8 9 "
          ]
        }
      ]
    },
    {
      "cell_type": "code",
      "source": [
        "#13. write a python program to find the sum of all even numbers between 1 and 50\n",
        "for i in range(50):\n",
        "  if i%2 ==1:\n",
        "     continue\n",
        "  print(i,end=\" \")"
      ],
      "metadata": {
        "colab": {
          "base_uri": "https://localhost:8080/"
        },
        "id": "jvc1VUDHbrhz",
        "outputId": "beeae075-01f3-473f-ac38-1aeefc839d60"
      },
      "execution_count": null,
      "outputs": [
        {
          "output_type": "stream",
          "name": "stdout",
          "text": [
            "0 2 4 6 8 10 12 14 16 18 20 22 24 26 28 30 32 34 36 38 40 42 44 46 48 "
          ]
        }
      ]
    },
    {
      "cell_type": "code",
      "source": [
        "# 14. write a program to reverse a string using a while loop.\n",
        "# assume data string  =\"python\"\n",
        "string = \"python\"\n",
        "rev_str =\"\"\n",
        "length =  len(string)-1\n",
        "while length>=0:\n",
        "  rev_str+=string[length]\n",
        "  length-=1\n",
        "  print(rev_str)"
      ],
      "metadata": {
        "colab": {
          "base_uri": "https://localhost:8080/"
        },
        "id": "gWZBUdn5ePEQ",
        "outputId": "c199dd7f-e935-4c8b-fcfd-61354c886ba5"
      },
      "execution_count": null,
      "outputs": [
        {
          "output_type": "stream",
          "name": "stdout",
          "text": [
            "n\n",
            "no\n",
            "noh\n",
            "noht\n",
            "nohty\n",
            "nohtyp\n"
          ]
        }
      ]
    },
    {
      "cell_type": "code",
      "source": [
        "# 15. write a python to calculate the factorial of a number provided by the user using a while loo\n",
        "f = 1\n",
        "n= int(input('enter the number:'))\n",
        "while n>=1:\n",
        "  f*=n\n",
        "  n-=1\n",
        "  print(\"factorial is\", f)\n",
        "\n",
        "\n",
        "\n"
      ],
      "metadata": {
        "colab": {
          "base_uri": "https://localhost:8080/"
        },
        "id": "00Wl3_ZuePSg",
        "outputId": "eb4dc9ec-9353-4054-c136-44ddbbe4d577"
      },
      "execution_count": null,
      "outputs": [
        {
          "output_type": "stream",
          "name": "stdout",
          "text": [
            "enter the number:5\n",
            "factorial is 5\n",
            "factorial is 20\n",
            "factorial is 60\n",
            "factorial is 120\n",
            "factorial is 120\n"
          ]
        }
      ]
    }
  ]
}